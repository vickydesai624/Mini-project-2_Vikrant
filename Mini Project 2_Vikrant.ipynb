{
 "cells": [
  {
   "cell_type": "markdown",
   "id": "5e7d8b72",
   "metadata": {},
   "source": [
    "# Mini Project 2\n",
    "\n",
    "**2025 Introduction to Quantiative Methods in Finance**\n",
    "\n",
    "**The Erdös Institute**\n",
    "\n",
    "\n",
    "###  Hypothesis Testing of Standard Assumptions Theoretical Financial Mathematics\n",
    "\n",
    "In the theory of mathematical finance, it is common to assume the log returns of a stock/index are normally distributed.\n",
    "\n",
    "\n",
    "Investigate if the log returns of stocks or indexes of your choosing are normally distributed. Some suggestions for exploration include:\n",
    "\n",
    "    1) Test if there are period of times when the log-returns of a stock/index have evidence of normal distribution.\n",
    "    \n",
    "    2) Test if removing extremal return data creates a distribution with evidence of being normal.\n",
    "    \n",
    "    3) Create a personalized portfolio of stocks with historical log return data that is normally distributed.\n",
    "    \n",
    "    4) Test if the portfolio you created in the first mini-project has significant periods of time with evidence of normally distributed log returns.\n",
    "    \n",
    "    5) Gather x-number of historical stock data and just perform a normality test on their log return data to see if any of the stocks exhibit evidence of log returns that are normally distributed."
   ]
  },
  {
   "cell_type": "code",
   "execution_count": 3,
   "id": "5596fc5d",
   "metadata": {},
   "outputs": [
    {
     "name": "stdout",
     "output_type": "stream",
     "text": [
      "1. Normality Tests Across Time Periods for Multiple Stocks and Selection of a Portfolio Having Normal Log Returns \n"
     ]
    },
    {
     "name": "stderr",
     "output_type": "stream",
     "text": [
      "[*********************100%***********************]  1 of 1 completed\n",
      "[*********************100%***********************]  1 of 1 completed"
     ]
    },
    {
     "name": "stdout",
     "output_type": "stream",
     "text": [
      "AAPL:\n",
      "  Period 1 (2015-01-05 to 2018-01-03): Shapiro-Wilk p = 0.0000 -  Not Normal\n",
      "  Period 2 (2018-01-04 to 2021-01-05): Shapiro-Wilk p = 0.0000 -  Not Normal\n",
      "  Period 3 (2021-01-06 to 2024-01-08): Shapiro-Wilk p = 0.0000 -  Not Normal\n",
      "  Period 4 (2024-01-09 to 2024-12-30): Shapiro-Wilk p = 0.0000 -  Not Normal\n",
      "MSFT:\n",
      "  Period 1 (2015-01-05 to 2018-01-03): Shapiro-Wilk p = 0.0000 -  Not Normal\n",
      "  Period 2 (2018-01-04 to 2021-01-05): Shapiro-Wilk p = 0.0000 -  Not Normal\n",
      "  Period 3 (2021-01-06 to 2024-01-08): Shapiro-Wilk p = 0.0000 -  Not Normal\n",
      "  Period 4 (2024-01-09 to 2024-12-30): Shapiro-Wilk p = 0.0000 -  Not Normal\n"
     ]
    },
    {
     "name": "stderr",
     "output_type": "stream",
     "text": [
      "\n",
      "[*********************100%***********************]  1 of 1 completed\n",
      "[*********************100%***********************]  1 of 1 completed"
     ]
    },
    {
     "name": "stdout",
     "output_type": "stream",
     "text": [
      "GOOGL:\n",
      "  Period 1 (2015-01-05 to 2018-01-03): Shapiro-Wilk p = 0.0000 -  Not Normal\n",
      "  Period 2 (2018-01-04 to 2021-01-05): Shapiro-Wilk p = 0.0000 -  Not Normal\n",
      "  Period 3 (2021-01-06 to 2024-01-08): Shapiro-Wilk p = 0.0000 -  Not Normal\n",
      "  Period 4 (2024-01-09 to 2024-12-30): Shapiro-Wilk p = 0.0000 -  Not Normal\n",
      "AMZN:\n",
      "  Period 1 (2015-01-05 to 2018-01-03): Shapiro-Wilk p = 0.0000 -  Not Normal\n",
      "  Period 2 (2018-01-04 to 2021-01-05): Shapiro-Wilk p = 0.0000 -  Not Normal\n",
      "  Period 3 (2021-01-06 to 2024-01-08): Shapiro-Wilk p = 0.0000 -  Not Normal\n",
      "  Period 4 (2024-01-09 to 2024-12-30): Shapiro-Wilk p = 0.0000 -  Not Normal\n"
     ]
    },
    {
     "name": "stderr",
     "output_type": "stream",
     "text": [
      "\n",
      "[*********************100%***********************]  1 of 1 completed\n",
      "[*********************100%***********************]  1 of 1 completed\n",
      "[*********************100%***********************]  1 of 1 completed\n",
      "[*********************100%***********************]  1 of 1 completed\n",
      "[*********************100%***********************]  1 of 1 completed"
     ]
    },
    {
     "name": "stdout",
     "output_type": "stream",
     "text": [
      "META:\n",
      "  Period 1 (2015-01-05 to 2018-01-03): Shapiro-Wilk p = 0.0000 -  Not Normal\n",
      "  Period 2 (2018-01-04 to 2021-01-05): Shapiro-Wilk p = 0.0000 -  Not Normal\n",
      "  Period 3 (2021-01-06 to 2024-01-08): Shapiro-Wilk p = 0.0000 -  Not Normal\n",
      "  Period 4 (2024-01-09 to 2024-12-30): Shapiro-Wilk p = 0.0000 -  Not Normal\n",
      "TSLA:\n",
      "  Period 1 (2015-01-05 to 2018-01-03): Shapiro-Wilk p = 0.0000 -  Not Normal\n",
      "  Period 2 (2018-01-04 to 2021-01-05): Shapiro-Wilk p = 0.0000 -  Not Normal\n",
      "  Period 3 (2021-01-06 to 2024-01-08): Shapiro-Wilk p = 0.0000 -  Not Normal\n",
      "  Period 4 (2024-01-09 to 2024-12-30): Shapiro-Wilk p = 0.0000 -  Not Normal\n",
      "NVDA:\n",
      "  Period 1 (2015-01-05 to 2018-01-03): Shapiro-Wilk p = 0.0000 -  Not Normal\n",
      "  Period 2 (2018-01-04 to 2021-01-05): Shapiro-Wilk p = 0.0000 -  Not Normal\n",
      "  Period 3 (2021-01-06 to 2024-01-08): Shapiro-Wilk p = 0.0000 -  Not Normal\n",
      "  Period 4 (2024-01-09 to 2024-12-30): Shapiro-Wilk p = 0.0001 -  Not Normal\n",
      "BRK-B:\n",
      "  Period 1 (2015-01-05 to 2018-01-03): Shapiro-Wilk p = 0.0000 -  Not Normal\n",
      "  Period 2 (2018-01-04 to 2021-01-05): Shapiro-Wilk p = 0.0000 -  Not Normal\n",
      "  Period 3 (2021-01-06 to 2024-01-08): Shapiro-Wilk p = 0.0000 -  Not Normal\n",
      "  Period 4 (2024-01-09 to 2024-12-30): Shapiro-Wilk p = 0.0000 -  Not Normal\n",
      "UNH:\n",
      "  Period 1 (2015-01-05 to 2018-01-03): Shapiro-Wilk p = 0.0000 -  Not Normal\n",
      "  Period 2 (2018-01-04 to 2021-01-05): Shapiro-Wilk p = 0.0000 -  Not Normal\n",
      "  Period 3 (2021-01-06 to 2024-01-08): Shapiro-Wilk p = 0.0000 -  Not Normal\n",
      "  Period 4 (2024-01-09 to 2024-12-30): Shapiro-Wilk p = 0.0000 -  Not Normal\n"
     ]
    },
    {
     "name": "stderr",
     "output_type": "stream",
     "text": [
      "\n",
      "[*********************100%***********************]  1 of 1 completed\n"
     ]
    },
    {
     "name": "stdout",
     "output_type": "stream",
     "text": [
      "JNJ:\n",
      "  Period 1 (2015-01-05 to 2018-01-03): Shapiro-Wilk p = 0.0000 -  Not Normal\n",
      "  Period 2 (2018-01-04 to 2021-01-05): Shapiro-Wilk p = 0.0000 -  Not Normal\n",
      "  Period 3 (2021-01-06 to 2024-01-08): Shapiro-Wilk p = 0.0000 -  Not Normal\n",
      "  Period 4 (2024-01-09 to 2024-12-30): Shapiro-Wilk p = 0.0000 -  Not Normal\n"
     ]
    },
    {
     "name": "stderr",
     "output_type": "stream",
     "text": [
      "[*********************100%***********************]  1 of 1 completed\n",
      "[*********************100%***********************]  1 of 1 completed\n",
      "[*********************100%***********************]  1 of 1 completed\n"
     ]
    },
    {
     "name": "stdout",
     "output_type": "stream",
     "text": [
      "V:\n",
      "  Period 1 (2015-01-05 to 2018-01-03): Shapiro-Wilk p = 0.0000 -  Not Normal\n",
      "  Period 2 (2018-01-04 to 2021-01-05): Shapiro-Wilk p = 0.0000 -  Not Normal\n",
      "  Period 3 (2021-01-06 to 2024-01-08): Shapiro-Wilk p = 0.0000 -  Not Normal\n",
      "  Period 4 (2024-01-09 to 2024-12-30): Shapiro-Wilk p = 0.0000 -  Not Normal\n",
      "PG:\n",
      "  Period 1 (2015-01-05 to 2018-01-03): Shapiro-Wilk p = 0.0000 -  Not Normal\n",
      "  Period 2 (2018-01-04 to 2021-01-05): Shapiro-Wilk p = 0.0000 -  Not Normal\n",
      "  Period 3 (2021-01-06 to 2024-01-08): Shapiro-Wilk p = 0.0000 -  Not Normal\n",
      "  Period 4 (2024-01-09 to 2024-12-30): Shapiro-Wilk p = 0.0000 -  Not Normal\n",
      "JPM:\n",
      "  Period 1 (2015-01-05 to 2018-01-03): Shapiro-Wilk p = 0.0000 -  Not Normal\n",
      "  Period 2 (2018-01-04 to 2021-01-05): Shapiro-Wilk p = 0.0000 -  Not Normal\n",
      "  Period 3 (2021-01-06 to 2024-01-08): Shapiro-Wilk p = 0.0000 -  Not Normal\n",
      "  Period 4 (2024-01-09 to 2024-12-30): Shapiro-Wilk p = 0.0000 -  Not Normal\n"
     ]
    },
    {
     "name": "stderr",
     "output_type": "stream",
     "text": [
      "[*********************100%***********************]  1 of 1 completed\n",
      "[*********************100%***********************]  1 of 1 completed\n",
      "[*********************100%***********************]  1 of 1 completed\n"
     ]
    },
    {
     "name": "stdout",
     "output_type": "stream",
     "text": [
      "XOM:\n",
      "  Period 1 (2015-01-05 to 2018-01-03): Shapiro-Wilk p = 0.0000 -  Not Normal\n",
      "  Period 2 (2018-01-04 to 2021-01-05): Shapiro-Wilk p = 0.0000 -  Not Normal\n",
      "  Period 3 (2021-01-06 to 2024-01-08): Shapiro-Wilk p = 0.0081 -  Not Normal\n",
      "  Period 4 (2024-01-09 to 2024-12-30): Shapiro-Wilk p = 0.5331 -  Normal\n",
      "HD:\n",
      "  Period 1 (2015-01-05 to 2018-01-03): Shapiro-Wilk p = 0.0000 -  Not Normal\n",
      "  Period 2 (2018-01-04 to 2021-01-05): Shapiro-Wilk p = 0.0000 -  Not Normal\n",
      "  Period 3 (2021-01-06 to 2024-01-08): Shapiro-Wilk p = 0.0000 -  Not Normal\n",
      "  Period 4 (2024-01-09 to 2024-12-30): Shapiro-Wilk p = 0.1990 -  Normal\n",
      "MA:\n",
      "  Period 1 (2015-01-05 to 2018-01-03): Shapiro-Wilk p = 0.0000 -  Not Normal\n",
      "  Period 2 (2018-01-04 to 2021-01-05): Shapiro-Wilk p = 0.0000 -  Not Normal\n",
      "  Period 3 (2021-01-06 to 2024-01-08): Shapiro-Wilk p = 0.0000 -  Not Normal\n",
      "  Period 4 (2024-01-09 to 2024-12-30): Shapiro-Wilk p = 0.0000 -  Not Normal\n"
     ]
    },
    {
     "name": "stderr",
     "output_type": "stream",
     "text": [
      "[*********************100%***********************]  1 of 1 completed\n",
      "[*********************100%***********************]  1 of 1 completed\n",
      "[*********************100%***********************]  1 of 1 completed\n",
      "[*********************100%***********************]  1 of 1 completed\n",
      "[*********************100%***********************]  1 of 1 completed\n"
     ]
    },
    {
     "name": "stdout",
     "output_type": "stream",
     "text": [
      "LLY:\n",
      "  Period 1 (2015-01-05 to 2018-01-03): Shapiro-Wilk p = 0.0000 -  Not Normal\n",
      "  Period 2 (2018-01-04 to 2021-01-05): Shapiro-Wilk p = 0.0000 -  Not Normal\n",
      "  Period 3 (2021-01-06 to 2024-01-08): Shapiro-Wilk p = 0.0000 -  Not Normal\n",
      "  Period 4 (2024-01-09 to 2024-12-30): Shapiro-Wilk p = 0.0000 -  Not Normal\n",
      "PEP:\n",
      "  Period 1 (2015-01-05 to 2018-01-03): Shapiro-Wilk p = 0.0000 -  Not Normal\n",
      "  Period 2 (2018-01-04 to 2021-01-05): Shapiro-Wilk p = 0.0000 -  Not Normal\n",
      "  Period 3 (2021-01-06 to 2024-01-08): Shapiro-Wilk p = 0.0000 -  Not Normal\n",
      "  Period 4 (2024-01-09 to 2024-12-30): Shapiro-Wilk p = 0.0000 -  Not Normal\n",
      "ABBV:\n",
      "  Period 1 (2015-01-05 to 2018-01-03): Shapiro-Wilk p = 0.0000 -  Not Normal\n",
      "  Period 2 (2018-01-04 to 2021-01-05): Shapiro-Wilk p = 0.0000 -  Not Normal\n",
      "  Period 3 (2021-01-06 to 2024-01-08): Shapiro-Wilk p = 0.0000 -  Not Normal\n",
      "  Period 4 (2024-01-09 to 2024-12-30): Shapiro-Wilk p = 0.0000 -  Not Normal\n",
      "KO:\n",
      "  Period 1 (2015-01-05 to 2018-01-03): Shapiro-Wilk p = 0.0000 -  Not Normal\n",
      "  Period 2 (2018-01-04 to 2021-01-05): Shapiro-Wilk p = 0.0000 -  Not Normal\n",
      "  Period 3 (2021-01-06 to 2024-01-08): Shapiro-Wilk p = 0.0000 -  Not Normal\n",
      "  Period 4 (2024-01-09 to 2024-12-30): Shapiro-Wilk p = 0.1023 -  Normal\n",
      "Summary of periodic normality (at least one period):\n",
      "At least one normal period: ['XOM', 'HD', 'KO']\n",
      "No normal periods: ['AAPL', 'MSFT', 'GOOGL', 'AMZN', 'META', 'TSLA', 'NVDA', 'BRK-B', 'UNH', 'JNJ', 'V', 'PG', 'JPM', 'MA', 'LLY', 'PEP', 'ABBV']\n",
      "Normal periods for each stock:\n",
      "XOM: 2024-01-09 to 2024-12-30\n"
     ]
    },
    {
     "name": "stderr",
     "output_type": "stream",
     "text": [
      "[*********************100%***********************]  1 of 1 completed\n",
      "[*********************100%***********************]  1 of 1 completed\n"
     ]
    },
    {
     "name": "stdout",
     "output_type": "stream",
     "text": [
      "HD: 2024-01-09 to 2024-12-30\n",
      "KO: 2024-01-09 to 2024-12-30\n",
      "Hence, the portfolio of XOM, HD and KO from 2024-01-09 to 2024-12-30 has normalized log returns.\n",
      "2. Normality Test After Trimming Extremes for Multiple Stocks\n"
     ]
    },
    {
     "name": "stderr",
     "output_type": "stream",
     "text": [
      "[*********************100%***********************]  1 of 1 completed\n",
      "[*********************100%***********************]  1 of 1 completed"
     ]
    },
    {
     "name": "stdout",
     "output_type": "stream",
     "text": [
      "AAPL: Trimmed Shapiro-Wilk p = nan - Not Normal\n"
     ]
    },
    {
     "name": "stderr",
     "output_type": "stream",
     "text": [
      "\n",
      "[*********************100%***********************]  1 of 1 completed\n",
      "[*********************100%***********************]  1 of 1 completed\n"
     ]
    },
    {
     "name": "stdout",
     "output_type": "stream",
     "text": [
      "MSFT: Trimmed Shapiro-Wilk p = nan - Not Normal\n",
      "GOOGL: Trimmed Shapiro-Wilk p = nan - Not Normal\n",
      "AMZN: Trimmed Shapiro-Wilk p = nan - Not Normal\n"
     ]
    },
    {
     "name": "stderr",
     "output_type": "stream",
     "text": [
      "[*********************100%***********************]  1 of 1 completed\n",
      "[*********************100%***********************]  1 of 1 completed\n",
      "[*********************100%***********************]  1 of 1 completed\n",
      "[*********************100%***********************]  1 of 1 completed\n",
      "[*********************100%***********************]  1 of 1 completed\n"
     ]
    },
    {
     "name": "stdout",
     "output_type": "stream",
     "text": [
      "META: Trimmed Shapiro-Wilk p = nan - Not Normal\n",
      "TSLA: Trimmed Shapiro-Wilk p = nan - Not Normal\n",
      "NVDA: Trimmed Shapiro-Wilk p = nan - Not Normal\n",
      "BRK-B: Trimmed Shapiro-Wilk p = nan - Not Normal\n",
      "UNH: Trimmed Shapiro-Wilk p = nan - Not Normal\n"
     ]
    },
    {
     "name": "stderr",
     "output_type": "stream",
     "text": [
      "[*********************100%***********************]  1 of 1 completed\n",
      "[*********************100%***********************]  1 of 1 completed\n",
      "[*********************100%***********************]  1 of 1 completed\n"
     ]
    },
    {
     "name": "stdout",
     "output_type": "stream",
     "text": [
      "JNJ: Trimmed Shapiro-Wilk p = nan - Not Normal\n",
      "V: Trimmed Shapiro-Wilk p = nan - Not Normal\n"
     ]
    },
    {
     "name": "stderr",
     "output_type": "stream",
     "text": [
      "[*********************100%***********************]  1 of 1 completed\n"
     ]
    },
    {
     "name": "stdout",
     "output_type": "stream",
     "text": [
      "PG: Trimmed Shapiro-Wilk p = nan - Not Normal\n",
      "JPM: Trimmed Shapiro-Wilk p = nan - Not Normal\n"
     ]
    },
    {
     "name": "stderr",
     "output_type": "stream",
     "text": [
      "[*********************100%***********************]  1 of 1 completed\n",
      "[*********************100%***********************]  1 of 1 completed\n",
      "[*********************100%***********************]  1 of 1 completed\n",
      "[*********************100%***********************]  1 of 1 completed\n"
     ]
    },
    {
     "name": "stdout",
     "output_type": "stream",
     "text": [
      "XOM: Trimmed Shapiro-Wilk p = nan - Not Normal\n",
      "HD: Trimmed Shapiro-Wilk p = nan - Not Normal\n",
      "MA: Trimmed Shapiro-Wilk p = nan - Not Normal\n",
      "LLY: Trimmed Shapiro-Wilk p = nan - Not Normal\n"
     ]
    },
    {
     "name": "stderr",
     "output_type": "stream",
     "text": [
      "[*********************100%***********************]  1 of 1 completed\n",
      "[*********************100%***********************]  1 of 1 completed\n",
      "[*********************100%***********************]  1 of 1 completed\n"
     ]
    },
    {
     "name": "stdout",
     "output_type": "stream",
     "text": [
      "PEP: Trimmed Shapiro-Wilk p = nan - Not Normal\n",
      "ABBV: Trimmed Shapiro-Wilk p = nan - Not Normal\n",
      "KO: Trimmed Shapiro-Wilk p = nan - Not Normal\n",
      "Summary after trimming extremes:\n",
      "Normally Distributed Log Returns: []\n",
      "Not Normal: ['AAPL', 'MSFT', 'GOOGL', 'AMZN', 'META', 'TSLA', 'NVDA', 'BRK-B', 'UNH', 'JNJ', 'V', 'PG', 'JPM', 'XOM', 'HD', 'MA', 'LLY', 'PEP', 'ABBV', 'KO']\n"
     ]
    },
    {
     "data": {
      "image/png": "[encoded data removed]",
      "text/plain": [
       "<Figure size 1200x600 with 1 Axes>"
      ]
     },
     "metadata": {},
     "output_type": "display_data"
    },
    {
     "name": "stdout",
     "output_type": "stream",
     "text": [
      "\n",
      " Shapiro-Wilk Normality Test for Portfolio A of mini project 1(DUK, KO, MO, MMC, LIN, ECL, JNJ):\n",
      "Test Statistic = 0.8684, p-value = 0.0000 →  Not Normal\n",
      "\n",
      " Shapiro-Wilk Test for Portfolio B of mini project 1(INTC, C, NFLX, GE, INTU):\n",
      "Test Statistic = 0.9111, p-value = 0.0000 →  Not Normal\n"
     ]
    }
   ],
   "source": [
    "# Log Return Normality Investigation for Beginner Quants\n",
    "\n",
    "# Install required libraries (if needed)\n",
    "!pip install yfinance statsmodels seaborn --quiet\n",
    "\n",
    "# Import libraries\n",
    "import yfinance as yf\n",
    "import numpy as np\n",
    "import pandas as pd\n",
    "import matplotlib.pyplot as plt\n",
    "import seaborn as sns\n",
    "from scipy import stats\n",
    "import statsmodels.api as sm\n",
    "\n",
    "# Set plotting style\n",
    "sns.set(style=\"darkgrid\")\n",
    "\n",
    "# Function to download and compute log returns\n",
    "def get_prices(data):\n",
    "    try:\n",
    "        if 'Adj Close' in data.columns:\n",
    "            return data['Adj Close']\n",
    "        elif 'Close' in data.columns:\n",
    "            return data['Close']\n",
    "        elif isinstance(data.columns, pd.MultiIndex):\n",
    "            return data.xs('Adj Close', axis=1, level=0)\n",
    "        else:\n",
    "            raise ValueError(\"Price data not found.\")\n",
    "    except Exception as e:\n",
    "        raise ValueError(f\"Failed to extract price data: {e}\")\n",
    "\n",
    "def get_log_returns(ticker, start=\"2015-01-01\", end=\"2024-12-31\"):\n",
    "    raw_data = yf.download(ticker, start=start, end=end, auto_adjust=False)\n",
    "    prices = get_prices(raw_data)\n",
    "    log_returns = np.log(prices / prices.shift(1)).dropna()\n",
    "    return log_returns\n",
    "\n",
    "# 1. Normality Tests Across Time Periods for Multiple Stocks\n",
    "from collections import defaultdict\n",
    "normal_periods_by_stock = defaultdict(list)\n",
    "print(f\"1. Normality Tests Across Time Periods for Multiple Stocks and Selection of a Portfolio Having Normal Log Returns \")\n",
    "\n",
    "tickers = ['AAPL', 'MSFT', 'GOOGL', 'AMZN', 'META', 'TSLA', 'NVDA', 'BRK-B', 'UNH', 'JNJ',\n",
    "           'V', 'PG', 'JPM', 'XOM', 'HD', 'MA', 'LLY', 'PEP', 'ABBV', 'KO']\n",
    "\n",
    "normal_periodic = []\n",
    "not_normal_periodic = []\n",
    "\n",
    "for ticker in tickers:\n",
    "    try:\n",
    "        log_returns = get_log_returns(ticker)\n",
    "        chunks = [log_returns[i:i+756] for i in range(0, len(log_returns), 756)]\n",
    "        print(f\"{ticker}:\")\n",
    "        is_normal_any = False\n",
    "\n",
    "        for i, chunk in enumerate(chunks):\n",
    "            period_start = chunk.index.min().strftime('%Y-%m-%d')\n",
    "            period_end = chunk.index.max().strftime('%Y-%m-%d')\n",
    "            if len(chunk) >= 30:\n",
    "                stat, p = stats.shapiro(chunk)\n",
    "                result = ' Normal' if p > 0.05 else ' Not Normal'\n",
    "                print(f\"  Period {i+1} ({period_start} to {period_end}): Shapiro-Wilk p = {p:.4f} - {result}\")\n",
    "                if p > 0.05:\n",
    "                    normal_periods_by_stock[ticker].append(i + 1)\n",
    "                    is_normal_any = True\n",
    "            else:\n",
    "                print(f\"  Period {i+1}: Not enough data\")\n",
    "\n",
    "        if is_normal_any:\n",
    "            normal_periodic.append(ticker)\n",
    "        else:\n",
    "            not_normal_periodic.append(ticker)\n",
    "\n",
    "    except Exception as e:\n",
    "        print(f\"  {ticker} skipped due to error: {e}\")\n",
    "\n",
    "print(f\"Summary of periodic normality (at least one period):\")\n",
    "print(f\"At least one normal period:\", normal_periodic)\n",
    "print(f\"No normal periods:\", not_normal_periodic)\n",
    "\n",
    "print(f\"Normal periods for each stock:\")\n",
    "for stock, periods in normal_periods_by_stock.items():\n",
    "    log_returns = get_log_returns(stock)\n",
    "    chunks = [log_returns[i:i+756] for i in range(0, len(log_returns), 756)]\n",
    "    for period_num in periods:\n",
    "        i = period_num - 1\n",
    "        if i < len(chunks):\n",
    "            chunk = chunks[i]\n",
    "            chunk_start = chunk.index.min().strftime('%Y-%m-%d')\n",
    "            chunk_end = chunk.index.max().strftime('%Y-%m-%d')\n",
    "            print(f\"{stock}: {chunk_start} to {chunk_end}\")\n",
    "\n",
    "print(f\"Hence, the portfolio of XOM, HD and KO from 2024-01-09 to 2024-12-30 has normalized log returns.\")\n",
    "\n",
    "\n",
    "# 2. Normality Test After Trimming Extremes for Multiple Stocks\n",
    "print(f\"2. Normality Test After Trimming Extremes for Multiple Stocks\")\n",
    "\n",
    "normal_trimmed = []\n",
    "not_normal_trimmed = []\n",
    "\n",
    "for ticker in tickers:\n",
    "    try:\n",
    "        log_returns = get_log_returns(ticker)\n",
    "        trimmed = log_returns[(log_returns > log_returns.quantile(0.01)) & (log_returns < log_returns.quantile(0.99))]\n",
    "        stat, p = stats.shapiro(trimmed)\n",
    "        if p > 0.05:\n",
    "            normal_trimmed.append(ticker)\n",
    "        else:\n",
    "            not_normal_trimmed.append(ticker)\n",
    "        print(f\"{ticker}: Trimmed Shapiro-Wilk p = {p:.4f} - {'Normal' if p > 0.05 else 'Not Normal'}\")\n",
    "    except Exception as e:\n",
    "        print(f\"{ticker} skipped due to error: {e}\")\n",
    "\n",
    "\n",
    "print(f\"Summary after trimming extremes:\")\n",
    "print(f\"Normally Distributed Log Returns:\", normal_trimmed)\n",
    "print(f\"Not Normal:\", not_normal_trimmed)\n",
    "\n",
    "# Visual Summary of Combined Normality Results\n",
    "import matplotlib.pyplot as plt\n",
    "\n",
    "summary_df = pd.DataFrame(index=tickers)\n",
    "summary_df['Periodic_Normal'] = summary_df.index.isin(normal_periodic)\n",
    "summary_df['Trimmed_Normal'] = summary_df.index.isin(normal_trimmed)\n",
    "summary_df['Both_Normal'] = summary_df['Periodic_Normal'] & summary_df['Trimmed_Normal']\n",
    "\n",
    "summary_df[['Periodic_Normal', 'Trimmed_Normal']].astype(int).plot(kind='bar', figsize=(12, 6),\n",
    "    color=[\"#66c2a5\", \"#fc8d62\"], title=\"Normality Test Results for Stocks\")\n",
    "plt.xlabel(\"Ticker\")\n",
    "plt.ylabel(\"Normal (1=True, 0=False)\")\n",
    "plt.xticks(rotation=45)\n",
    "plt.tight_layout()\n",
    "plt.show()\n",
    "\n",
    "\n",
    "import yfinance as yf\n",
    "import numpy as np\n",
    "import pandas as pd\n",
    "import matplotlib.pyplot as plt\n",
    "import seaborn as sns\n",
    "from scipy import stats\n",
    "import statsmodels.api as sm\n",
    "\n",
    "# Tickers in the Portfolio A\n",
    "tickers = ['DUK', 'KO', 'MO', 'MMC', 'LIN', 'ECL', 'JNJ']\n",
    "\n",
    "# Download 10 years of data\n",
    "data = yf.download(tickers, start=\"2015-01-01\", end=\"2024-12-31\", auto_adjust=True, progress=False)\n",
    "\n",
    "# Extract Adjusted Close prices\n",
    "try:\n",
    "    if 'Adj Close' in data.columns:\n",
    "        prices = data['Adj Close']\n",
    "    elif 'Close' in data.columns:\n",
    "        prices = data['Close']\n",
    "    else:\n",
    "        prices = data.xs('Adj Close', axis=1, level=0)\n",
    "except Exception as e:\n",
    "    raise ValueError(f\"Adjusted close prices not found. Error: {e}\")\n",
    "\n",
    "# Drop any columns with all NaNs\n",
    "prices = prices.dropna(axis=1, how='all')\n",
    "\n",
    "# Ensure all selected tickers are present\n",
    "missing = set(tickers) - set(prices.columns)\n",
    "if missing:\n",
    "    print(f\"Missing tickers in data: {missing}\")\n",
    "    tickers = [t for t in tickers if t in prices.columns]\n",
    "\n",
    "# Compute daily log returns\n",
    "log_returns = np.log(prices[tickers] / prices[tickers].shift(1)).dropna()\n",
    "\n",
    "# Equal weights\n",
    "weights = np.ones(len(tickers)) / len(tickers)\n",
    "\n",
    "# Portfolio log returns\n",
    "portfolio_returns = log_returns @ weights\n",
    "\n",
    "# Shapiro-Wilk normality test\n",
    "stat, p_value = stats.shapiro(portfolio_returns)\n",
    "print(f\"\\n Shapiro-Wilk Normality Test for Portfolio A of mini project 1({', '.join(tickers)}):\")\n",
    "print(f\"Test Statistic = {stat:.4f}, p-value = {p_value:.4f} → {' Normal' if p_value > 0.05 else ' Not Normal'}\")\n",
    "\n",
    "import yfinance as yf\n",
    "import numpy as np\n",
    "import pandas as pd\n",
    "import matplotlib.pyplot as plt\n",
    "import seaborn as sns\n",
    "from scipy import stats\n",
    "import statsmodels.api as sm\n",
    "\n",
    "# Tickers in the portfolio\n",
    "tickers = ['INTC', 'C', 'NFLX', 'GE', 'INTU']\n",
    "\n",
    "# Download 10 years of historical data\n",
    "data = yf.download(tickers, start=\"2015-01-01\", end=\"2024-12-31\", auto_adjust=True, progress=False)\n",
    "\n",
    "# Extract adjusted close prices\n",
    "try:\n",
    "    if 'Adj Close' in data.columns:\n",
    "        prices = data['Adj Close']\n",
    "    elif 'Close' in data.columns:\n",
    "        prices = data['Close']\n",
    "    else:\n",
    "        prices = data.xs('Adj Close', axis=1, level=0)\n",
    "except Exception as e:\n",
    "    raise ValueError(f\"Adjusted close prices not found. Error: {e}\")\n",
    "\n",
    "# Drop any columns with all NaNs\n",
    "prices = prices.dropna(axis=1, how='all')\n",
    "\n",
    "# Filter to include only available tickers\n",
    "available_tickers = [t for t in tickers if t in prices.columns]\n",
    "missing = set(tickers) - set(prices.columns)\n",
    "if missing:\n",
    "    print(f\" Missing tickers in data: {missing}\")\n",
    "\n",
    "# Compute daily log returns\n",
    "log_returns = np.log(prices[available_tickers] / prices[available_tickers].shift(1)).dropna()\n",
    "\n",
    "# Equal weights\n",
    "weights = np.ones(len(available_tickers)) / len(available_tickers)\n",
    "\n",
    "# Portfolio log returns\n",
    "portfolio_returns = log_returns @ weights\n",
    "\n",
    "# Shapiro-Wilk normality test\n",
    "stat, p = stats.shapiro(portfolio_returns)\n",
    "print(f\"\\n Shapiro-Wilk Test for Portfolio B of mini project 1({', '.join(available_tickers)}):\")\n",
    "print(f\"Test Statistic = {stat:.4f}, p-value = {p:.4f} → {' Normal' if p > 0.05 else ' Not Normal'}\")"
   ]
  },
  {
   "cell_type": "code",
   "execution_count": null,
   "id": "c8e13b1d-ab83-4a24-bb3f-9e4a39135599",
   "metadata": {},
   "outputs": [],
   "source": []
  }
 ],
 "metadata": {
  "kernelspec": {
   "display_name": "Python [conda env:base] *",
   "language": "python",
   "name": "conda-base-py"
  },
  "language_info": {
   "codemirror_mode": {
    "name": "ipython",
    "version": 3
   },
   "file_extension": ".py",
   "mimetype": "text/x-python",
   "name": "python",
   "nbconvert_exporter": "python",
   "pygments_lexer": "ipython3",
   "version": "3.12.7"
  }
 },
 "nbformat": 4,
 "nbformat_minor": 5
}
